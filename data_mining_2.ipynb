{
  "nbformat": 4,
  "nbformat_minor": 0,
  "metadata": {
    "colab": {
      "provenance": [],
      "authorship_tag": "ABX9TyNeWlbQqbjm649G90iKJEtf",
      "include_colab_link": true
    },
    "kernelspec": {
      "name": "python3",
      "display_name": "Python 3"
    },
    "language_info": {
      "name": "python"
    }
  },
  "cells": [
    {
      "cell_type": "markdown",
      "metadata": {
        "id": "view-in-github",
        "colab_type": "text"
      },
      "source": [
        "<a href=\"https://colab.research.google.com/github/MFarisA/Data-Mining/blob/main/data_mining_2.ipynb\" target=\"_parent\"><img src=\"https://colab.research.google.com/assets/colab-badge.svg\" alt=\"Open In Colab\"/></a>"
      ]
    },
    {
      "cell_type": "code",
      "execution_count": 87,
      "metadata": {
        "colab": {
          "base_uri": "https://localhost:8080/"
        },
        "id": "AwVFypD87an5",
        "outputId": "685cbe26-e4ce-4d4a-9c89-7c52168d4172"
      },
      "outputs": [
        {
          "output_type": "stream",
          "name": "stdout",
          "text": [
            "Drive already mounted at /content/drive; to attempt to forcibly remount, call drive.mount(\"/content/drive\", force_remount=True).\n"
          ]
        }
      ],
      "source": [
        "from google.colab import drive\n",
        "drive.mount('/content/drive')\n",
        "\n",
        "file_path = '/content/drive/MyDrive/campuss/data-mining/dataKasus-1.xlsx'\n"
      ]
    },
    {
      "cell_type": "markdown",
      "source": [
        "# Load Dataset"
      ],
      "metadata": {
        "id": "B4dMTmIeF7SU"
      }
    },
    {
      "cell_type": "code",
      "source": [
        "import pandas as pd\n",
        "from IPython.display import display\n",
        "\n",
        "# Load Excel file\n",
        "df = pd.read_excel('/content/drive/MyDrive/campuss/data-mining/dataKasus-1.xlsx')\n",
        "\n",
        "# Check the first few rows\n",
        "display(df.head())\n",
        "# Display the column names (without calling it as a function)\n",
        "display(df.columns)"
      ],
      "metadata": {
        "colab": {
          "base_uri": "https://localhost:8080/",
          "height": 397
        },
        "id": "b7rlO1QG9m-2",
        "outputId": "5fd9b486-92b0-43b1-c915-b9ee026d3cdb"
      },
      "execution_count": 88,
      "outputs": [
        {
          "output_type": "display_data",
          "data": {
            "text/plain": [
              "   NO    NAMA   USIA  PARITAS JARAK KELAHIRAN RIW HIPERTENSI RIW PE OBESITAS  \\\n",
              "0   1  NAMA 1  23 TH        3       < 2 tahun          Tidak  Tidak    Tidak   \n",
              "1   2  NAMA 2  29 TH        2       < 2 tahun          Tidak    PEB    Tidak   \n",
              "2   3  NAMA 3  20 TH        1    anak pertama          Tidak  Tidak    Tidak   \n",
              "3   4  NAMA 4  18 TH        1    anak pertama          Tidak  Tidak    Tidak   \n",
              "4   5  NAMA 5  34 TH        3      > 2 tahun           Tidak  Tidak    Tidak   \n",
              "\n",
              "  RIW DM RIW HIPERTENSI/PE DALAM KELUARGA SOSEK RENDAH PE/Non PE Unnamed: 12  \n",
              "0     Ya                            Tidak         >UMR    Non PE         NaN  \n",
              "1  Tidak                              Ada         >UMR        PE         NaN  \n",
              "2  Tidak                            Tidak         >UMR    Non PE         NaN  \n",
              "3  Tidak                            Tidak         >UMR    Non PE         NaN  \n",
              "4  Tidak                            Tidak         >UMR    Non PE         NaN  "
            ],
            "text/html": [
              "\n",
              "  <div id=\"df-7d644097-d05f-48f1-9f49-84c7b4ff5bc5\" class=\"colab-df-container\">\n",
              "    <div>\n",
              "<style scoped>\n",
              "    .dataframe tbody tr th:only-of-type {\n",
              "        vertical-align: middle;\n",
              "    }\n",
              "\n",
              "    .dataframe tbody tr th {\n",
              "        vertical-align: top;\n",
              "    }\n",
              "\n",
              "    .dataframe thead th {\n",
              "        text-align: right;\n",
              "    }\n",
              "</style>\n",
              "<table border=\"1\" class=\"dataframe\">\n",
              "  <thead>\n",
              "    <tr style=\"text-align: right;\">\n",
              "      <th></th>\n",
              "      <th>NO</th>\n",
              "      <th>NAMA</th>\n",
              "      <th>USIA</th>\n",
              "      <th>PARITAS</th>\n",
              "      <th>JARAK KELAHIRAN</th>\n",
              "      <th>RIW HIPERTENSI</th>\n",
              "      <th>RIW PE</th>\n",
              "      <th>OBESITAS</th>\n",
              "      <th>RIW DM</th>\n",
              "      <th>RIW HIPERTENSI/PE DALAM KELUARGA</th>\n",
              "      <th>SOSEK RENDAH</th>\n",
              "      <th>PE/Non PE</th>\n",
              "      <th>Unnamed: 12</th>\n",
              "    </tr>\n",
              "  </thead>\n",
              "  <tbody>\n",
              "    <tr>\n",
              "      <th>0</th>\n",
              "      <td>1</td>\n",
              "      <td>NAMA 1</td>\n",
              "      <td>23 TH</td>\n",
              "      <td>3</td>\n",
              "      <td>&lt; 2 tahun</td>\n",
              "      <td>Tidak</td>\n",
              "      <td>Tidak</td>\n",
              "      <td>Tidak</td>\n",
              "      <td>Ya</td>\n",
              "      <td>Tidak</td>\n",
              "      <td>&gt;UMR</td>\n",
              "      <td>Non PE</td>\n",
              "      <td>NaN</td>\n",
              "    </tr>\n",
              "    <tr>\n",
              "      <th>1</th>\n",
              "      <td>2</td>\n",
              "      <td>NAMA 2</td>\n",
              "      <td>29 TH</td>\n",
              "      <td>2</td>\n",
              "      <td>&lt; 2 tahun</td>\n",
              "      <td>Tidak</td>\n",
              "      <td>PEB</td>\n",
              "      <td>Tidak</td>\n",
              "      <td>Tidak</td>\n",
              "      <td>Ada</td>\n",
              "      <td>&gt;UMR</td>\n",
              "      <td>PE</td>\n",
              "      <td>NaN</td>\n",
              "    </tr>\n",
              "    <tr>\n",
              "      <th>2</th>\n",
              "      <td>3</td>\n",
              "      <td>NAMA 3</td>\n",
              "      <td>20 TH</td>\n",
              "      <td>1</td>\n",
              "      <td>anak pertama</td>\n",
              "      <td>Tidak</td>\n",
              "      <td>Tidak</td>\n",
              "      <td>Tidak</td>\n",
              "      <td>Tidak</td>\n",
              "      <td>Tidak</td>\n",
              "      <td>&gt;UMR</td>\n",
              "      <td>Non PE</td>\n",
              "      <td>NaN</td>\n",
              "    </tr>\n",
              "    <tr>\n",
              "      <th>3</th>\n",
              "      <td>4</td>\n",
              "      <td>NAMA 4</td>\n",
              "      <td>18 TH</td>\n",
              "      <td>1</td>\n",
              "      <td>anak pertama</td>\n",
              "      <td>Tidak</td>\n",
              "      <td>Tidak</td>\n",
              "      <td>Tidak</td>\n",
              "      <td>Tidak</td>\n",
              "      <td>Tidak</td>\n",
              "      <td>&gt;UMR</td>\n",
              "      <td>Non PE</td>\n",
              "      <td>NaN</td>\n",
              "    </tr>\n",
              "    <tr>\n",
              "      <th>4</th>\n",
              "      <td>5</td>\n",
              "      <td>NAMA 5</td>\n",
              "      <td>34 TH</td>\n",
              "      <td>3</td>\n",
              "      <td>&gt; 2 tahun</td>\n",
              "      <td>Tidak</td>\n",
              "      <td>Tidak</td>\n",
              "      <td>Tidak</td>\n",
              "      <td>Tidak</td>\n",
              "      <td>Tidak</td>\n",
              "      <td>&gt;UMR</td>\n",
              "      <td>Non PE</td>\n",
              "      <td>NaN</td>\n",
              "    </tr>\n",
              "  </tbody>\n",
              "</table>\n",
              "</div>\n",
              "    <div class=\"colab-df-buttons\">\n",
              "\n",
              "  <div class=\"colab-df-container\">\n",
              "    <button class=\"colab-df-convert\" onclick=\"convertToInteractive('df-7d644097-d05f-48f1-9f49-84c7b4ff5bc5')\"\n",
              "            title=\"Convert this dataframe to an interactive table.\"\n",
              "            style=\"display:none;\">\n",
              "\n",
              "  <svg xmlns=\"http://www.w3.org/2000/svg\" height=\"24px\" viewBox=\"0 -960 960 960\">\n",
              "    <path d=\"M120-120v-720h720v720H120Zm60-500h600v-160H180v160Zm220 220h160v-160H400v160Zm0 220h160v-160H400v160ZM180-400h160v-160H180v160Zm440 0h160v-160H620v160ZM180-180h160v-160H180v160Zm440 0h160v-160H620v160Z\"/>\n",
              "  </svg>\n",
              "    </button>\n",
              "\n",
              "  <style>\n",
              "    .colab-df-container {\n",
              "      display:flex;\n",
              "      gap: 12px;\n",
              "    }\n",
              "\n",
              "    .colab-df-convert {\n",
              "      background-color: #E8F0FE;\n",
              "      border: none;\n",
              "      border-radius: 50%;\n",
              "      cursor: pointer;\n",
              "      display: none;\n",
              "      fill: #1967D2;\n",
              "      height: 32px;\n",
              "      padding: 0 0 0 0;\n",
              "      width: 32px;\n",
              "    }\n",
              "\n",
              "    .colab-df-convert:hover {\n",
              "      background-color: #E2EBFA;\n",
              "      box-shadow: 0px 1px 2px rgba(60, 64, 67, 0.3), 0px 1px 3px 1px rgba(60, 64, 67, 0.15);\n",
              "      fill: #174EA6;\n",
              "    }\n",
              "\n",
              "    .colab-df-buttons div {\n",
              "      margin-bottom: 4px;\n",
              "    }\n",
              "\n",
              "    [theme=dark] .colab-df-convert {\n",
              "      background-color: #3B4455;\n",
              "      fill: #D2E3FC;\n",
              "    }\n",
              "\n",
              "    [theme=dark] .colab-df-convert:hover {\n",
              "      background-color: #434B5C;\n",
              "      box-shadow: 0px 1px 3px 1px rgba(0, 0, 0, 0.15);\n",
              "      filter: drop-shadow(0px 1px 2px rgba(0, 0, 0, 0.3));\n",
              "      fill: #FFFFFF;\n",
              "    }\n",
              "  </style>\n",
              "\n",
              "    <script>\n",
              "      const buttonEl =\n",
              "        document.querySelector('#df-7d644097-d05f-48f1-9f49-84c7b4ff5bc5 button.colab-df-convert');\n",
              "      buttonEl.style.display =\n",
              "        google.colab.kernel.accessAllowed ? 'block' : 'none';\n",
              "\n",
              "      async function convertToInteractive(key) {\n",
              "        const element = document.querySelector('#df-7d644097-d05f-48f1-9f49-84c7b4ff5bc5');\n",
              "        const dataTable =\n",
              "          await google.colab.kernel.invokeFunction('convertToInteractive',\n",
              "                                                    [key], {});\n",
              "        if (!dataTable) return;\n",
              "\n",
              "        const docLinkHtml = 'Like what you see? Visit the ' +\n",
              "          '<a target=\"_blank\" href=https://colab.research.google.com/notebooks/data_table.ipynb>data table notebook</a>'\n",
              "          + ' to learn more about interactive tables.';\n",
              "        element.innerHTML = '';\n",
              "        dataTable['output_type'] = 'display_data';\n",
              "        await google.colab.output.renderOutput(dataTable, element);\n",
              "        const docLink = document.createElement('div');\n",
              "        docLink.innerHTML = docLinkHtml;\n",
              "        element.appendChild(docLink);\n",
              "      }\n",
              "    </script>\n",
              "  </div>\n",
              "\n",
              "\n",
              "<div id=\"df-7c8c6042-c3f2-4d3d-aa74-49d29af340a6\">\n",
              "  <button class=\"colab-df-quickchart\" onclick=\"quickchart('df-7c8c6042-c3f2-4d3d-aa74-49d29af340a6')\"\n",
              "            title=\"Suggest charts\"\n",
              "            style=\"display:none;\">\n",
              "\n",
              "<svg xmlns=\"http://www.w3.org/2000/svg\" height=\"24px\"viewBox=\"0 0 24 24\"\n",
              "     width=\"24px\">\n",
              "    <g>\n",
              "        <path d=\"M19 3H5c-1.1 0-2 .9-2 2v14c0 1.1.9 2 2 2h14c1.1 0 2-.9 2-2V5c0-1.1-.9-2-2-2zM9 17H7v-7h2v7zm4 0h-2V7h2v10zm4 0h-2v-4h2v4z\"/>\n",
              "    </g>\n",
              "</svg>\n",
              "  </button>\n",
              "\n",
              "<style>\n",
              "  .colab-df-quickchart {\n",
              "      --bg-color: #E8F0FE;\n",
              "      --fill-color: #1967D2;\n",
              "      --hover-bg-color: #E2EBFA;\n",
              "      --hover-fill-color: #174EA6;\n",
              "      --disabled-fill-color: #AAA;\n",
              "      --disabled-bg-color: #DDD;\n",
              "  }\n",
              "\n",
              "  [theme=dark] .colab-df-quickchart {\n",
              "      --bg-color: #3B4455;\n",
              "      --fill-color: #D2E3FC;\n",
              "      --hover-bg-color: #434B5C;\n",
              "      --hover-fill-color: #FFFFFF;\n",
              "      --disabled-bg-color: #3B4455;\n",
              "      --disabled-fill-color: #666;\n",
              "  }\n",
              "\n",
              "  .colab-df-quickchart {\n",
              "    background-color: var(--bg-color);\n",
              "    border: none;\n",
              "    border-radius: 50%;\n",
              "    cursor: pointer;\n",
              "    display: none;\n",
              "    fill: var(--fill-color);\n",
              "    height: 32px;\n",
              "    padding: 0;\n",
              "    width: 32px;\n",
              "  }\n",
              "\n",
              "  .colab-df-quickchart:hover {\n",
              "    background-color: var(--hover-bg-color);\n",
              "    box-shadow: 0 1px 2px rgba(60, 64, 67, 0.3), 0 1px 3px 1px rgba(60, 64, 67, 0.15);\n",
              "    fill: var(--button-hover-fill-color);\n",
              "  }\n",
              "\n",
              "  .colab-df-quickchart-complete:disabled,\n",
              "  .colab-df-quickchart-complete:disabled:hover {\n",
              "    background-color: var(--disabled-bg-color);\n",
              "    fill: var(--disabled-fill-color);\n",
              "    box-shadow: none;\n",
              "  }\n",
              "\n",
              "  .colab-df-spinner {\n",
              "    border: 2px solid var(--fill-color);\n",
              "    border-color: transparent;\n",
              "    border-bottom-color: var(--fill-color);\n",
              "    animation:\n",
              "      spin 1s steps(1) infinite;\n",
              "  }\n",
              "\n",
              "  @keyframes spin {\n",
              "    0% {\n",
              "      border-color: transparent;\n",
              "      border-bottom-color: var(--fill-color);\n",
              "      border-left-color: var(--fill-color);\n",
              "    }\n",
              "    20% {\n",
              "      border-color: transparent;\n",
              "      border-left-color: var(--fill-color);\n",
              "      border-top-color: var(--fill-color);\n",
              "    }\n",
              "    30% {\n",
              "      border-color: transparent;\n",
              "      border-left-color: var(--fill-color);\n",
              "      border-top-color: var(--fill-color);\n",
              "      border-right-color: var(--fill-color);\n",
              "    }\n",
              "    40% {\n",
              "      border-color: transparent;\n",
              "      border-right-color: var(--fill-color);\n",
              "      border-top-color: var(--fill-color);\n",
              "    }\n",
              "    60% {\n",
              "      border-color: transparent;\n",
              "      border-right-color: var(--fill-color);\n",
              "    }\n",
              "    80% {\n",
              "      border-color: transparent;\n",
              "      border-right-color: var(--fill-color);\n",
              "      border-bottom-color: var(--fill-color);\n",
              "    }\n",
              "    90% {\n",
              "      border-color: transparent;\n",
              "      border-bottom-color: var(--fill-color);\n",
              "    }\n",
              "  }\n",
              "</style>\n",
              "\n",
              "  <script>\n",
              "    async function quickchart(key) {\n",
              "      const quickchartButtonEl =\n",
              "        document.querySelector('#' + key + ' button');\n",
              "      quickchartButtonEl.disabled = true;  // To prevent multiple clicks.\n",
              "      quickchartButtonEl.classList.add('colab-df-spinner');\n",
              "      try {\n",
              "        const charts = await google.colab.kernel.invokeFunction(\n",
              "            'suggestCharts', [key], {});\n",
              "      } catch (error) {\n",
              "        console.error('Error during call to suggestCharts:', error);\n",
              "      }\n",
              "      quickchartButtonEl.classList.remove('colab-df-spinner');\n",
              "      quickchartButtonEl.classList.add('colab-df-quickchart-complete');\n",
              "    }\n",
              "    (() => {\n",
              "      let quickchartButtonEl =\n",
              "        document.querySelector('#df-7c8c6042-c3f2-4d3d-aa74-49d29af340a6 button');\n",
              "      quickchartButtonEl.style.display =\n",
              "        google.colab.kernel.accessAllowed ? 'block' : 'none';\n",
              "    })();\n",
              "  </script>\n",
              "</div>\n",
              "\n",
              "    </div>\n",
              "  </div>\n"
            ],
            "application/vnd.google.colaboratory.intrinsic+json": {
              "type": "dataframe",
              "repr_error": "Out of range float values are not JSON compliant: nan"
            }
          },
          "metadata": {}
        },
        {
          "output_type": "display_data",
          "data": {
            "text/plain": [
              "Index(['NO', 'NAMA', 'USIA', 'PARITAS', 'JARAK KELAHIRAN', 'RIW HIPERTENSI',\n",
              "       'RIW PE', 'OBESITAS', 'RIW DM', 'RIW HIPERTENSI/PE DALAM KELUARGA',\n",
              "       'SOSEK RENDAH', 'PE/Non PE', 'Unnamed: 12'],\n",
              "      dtype='object')"
            ]
          },
          "metadata": {}
        }
      ]
    },
    {
      "cell_type": "markdown",
      "source": [
        "## Handle missing Data\n"
      ],
      "metadata": {
        "id": "XHdUwYpRGpx1"
      }
    },
    {
      "cell_type": "code",
      "source": [
        "# Drop rows with any missing values\n",
        "data_clean = df.dropna()\n",
        "\n",
        "# Drop columns with missing values\n",
        "data_clean = df.dropna(axis=1)"
      ],
      "metadata": {
        "id": "-cuJv2gZFXs4"
      },
      "execution_count": 89,
      "outputs": []
    },
    {
      "cell_type": "code",
      "source": [
        "# Check for missing values in each column\n",
        "print(df.isnull().sum())"
      ],
      "metadata": {
        "colab": {
          "base_uri": "https://localhost:8080/"
        },
        "id": "0tUpQuomHOd4",
        "outputId": "08c4df18-a923-4ea7-991a-545485a12129"
      },
      "execution_count": 90,
      "outputs": [
        {
          "output_type": "stream",
          "name": "stdout",
          "text": [
            "NO                                    0\n",
            "NAMA                                  0\n",
            "USIA                                  3\n",
            "PARITAS                               0\n",
            "JARAK KELAHIRAN                       7\n",
            "RIW HIPERTENSI                        0\n",
            "RIW PE                                0\n",
            "OBESITAS                              0\n",
            "RIW DM                                0\n",
            "RIW HIPERTENSI/PE DALAM KELUARGA      0\n",
            "SOSEK RENDAH                          0\n",
            "PE/Non PE                             0\n",
            "Unnamed: 12                         550\n",
            "dtype: int64\n"
          ]
        }
      ]
    },
    {
      "cell_type": "code",
      "source": [
        "# Check if there are any missing values in the entire DataFrame\n",
        "print(df.isnull().values.any())"
      ],
      "metadata": {
        "colab": {
          "base_uri": "https://localhost:8080/"
        },
        "id": "Z4CAg8BVHW6r",
        "outputId": "3db438d9-b14a-441b-ed16-7b20d8929421"
      },
      "execution_count": 91,
      "outputs": [
        {
          "output_type": "stream",
          "name": "stdout",
          "text": [
            "True\n"
          ]
        }
      ]
    },
    {
      "cell_type": "code",
      "source": [
        "# Calculate the percentage of missing values in each column\n",
        "missing_percentage = df.isnull().mean() * 100\n",
        "print(missing_percentage)"
      ],
      "metadata": {
        "colab": {
          "base_uri": "https://localhost:8080/"
        },
        "id": "NP8hUQw2HljV",
        "outputId": "0d1934de-2462-4bba-d92d-40abc4e1fe54"
      },
      "execution_count": 92,
      "outputs": [
        {
          "output_type": "stream",
          "name": "stdout",
          "text": [
            "NO                                   0.000000\n",
            "NAMA                                 0.000000\n",
            "USIA                                 0.534759\n",
            "PARITAS                              0.000000\n",
            "JARAK KELAHIRAN                      1.247772\n",
            "RIW HIPERTENSI                       0.000000\n",
            "RIW PE                               0.000000\n",
            "OBESITAS                             0.000000\n",
            "RIW DM                               0.000000\n",
            "RIW HIPERTENSI/PE DALAM KELUARGA     0.000000\n",
            "SOSEK RENDAH                         0.000000\n",
            "PE/Non PE                            0.000000\n",
            "Unnamed: 12                         98.039216\n",
            "dtype: float64\n"
          ]
        }
      ]
    },
    {
      "cell_type": "markdown",
      "source": [
        "## Label Encoding, Normalization\n"
      ],
      "metadata": {
        "id": "vWNQFgHRJP6X"
      }
    },
    {
      "cell_type": "code",
      "source": [
        "from sklearn.preprocessing import LabelEncoder, MinMaxScaler\n",
        "\n",
        "# Initialize label encoder and scaler\n",
        "le = LabelEncoder()\n",
        "scaler = MinMaxScaler()\n",
        "\n",
        "# Apply label encoding to each column\n",
        "df['OBESITAS'] = le.fit_transform(df['OBESITAS'])\n",
        "df['RIW HIPERTENSI'] = le.fit_transform(df['RIW HIPERTENSI'])\n",
        "df['SOSEK RENDAH'] = le.fit_transform(df['SOSEK RENDAH'])\n",
        "\n",
        "# Normalize the encoded data (scales between 0 and 1)\n",
        "df[['OBESITAS', 'RIW HIPERTENSI', 'SOSEK RENDAH']] = scaler.fit_transform(df[['OBESITAS', 'RIW HIPERTENSI', 'SOSEK RENDAH']])\n",
        "\n",
        "# Compare with other columns (e.g., 'NAMA', 'USIA', etc.)\n",
        "print(df[['NAMA', 'USIA', 'JARAK KELAHIRAN', 'OBESITAS', 'RIW HIPERTENSI', 'SOSEK RENDAH']].head(10))\n"
      ],
      "metadata": {
        "colab": {
          "base_uri": "https://localhost:8080/"
        },
        "id": "jKbHIntbIAJC",
        "outputId": "3cc63862-633f-4ff1-9ee7-9254595ce88c"
      },
      "execution_count": 93,
      "outputs": [
        {
          "output_type": "stream",
          "name": "stdout",
          "text": [
            "      NAMA   USIA JARAK KELAHIRAN  OBESITAS  RIW HIPERTENSI  SOSEK RENDAH\n",
            "0   NAMA 1  23 TH       < 2 tahun       0.0             0.0           1.0\n",
            "1   NAMA 2  29 TH       < 2 tahun       0.0             0.0           1.0\n",
            "2   NAMA 3  20 TH    anak pertama       0.0             0.0           1.0\n",
            "3   NAMA 4  18 TH    anak pertama       0.0             0.0           1.0\n",
            "4   NAMA 5  34 TH      > 2 tahun        0.0             0.0           1.0\n",
            "5   NAMA 6  28 TH       < 2 tahun       0.0             0.0           1.0\n",
            "6   NAMA 7  36 TH      > 2 tahun        0.0             0.0           1.0\n",
            "7   NAMA 8  28 TH      > 2 tahun        0.0             0.0           1.0\n",
            "8   NAMA 9  39 TH       < 2 tahun       0.0             0.0           1.0\n",
            "9  NAMA 10  37 TH      > 2 tahun        0.0             0.0           1.0\n"
          ]
        }
      ]
    },
    {
      "cell_type": "markdown",
      "source": [
        "## Remove Duplicates"
      ],
      "metadata": {
        "id": "ZU7k3_mfZX94"
      }
    },
    {
      "cell_type": "code",
      "source": [
        "data_clean = df.drop_duplicates()"
      ],
      "metadata": {
        "id": "AskufkZELKv_"
      },
      "execution_count": 94,
      "outputs": []
    },
    {
      "cell_type": "markdown",
      "source": [
        "## Handle Outliers, Feature Engineering"
      ],
      "metadata": {
        "id": "EwtucvREZeZN"
      }
    },
    {
      "cell_type": "code",
      "source": [
        "import pandas as pd\n",
        "from sklearn.preprocessing import LabelEncoder\n",
        "\n",
        "# Load your data\n",
        "df = pd.read_excel('/content/drive/MyDrive/campuss/data-mining/dataKasus-1.xlsx')\n",
        "\n",
        "# Convert 'OBESITAS', 'RIW HIPERTENSI', and 'SOSEK RENDAH' to numeric, handling errors\n",
        "for col in ['OBESITAS', 'RIW HIPERTENSI', 'SOSEK RENDAH']:\n",
        "    df[col] = pd.to_numeric(df[col], errors='coerce')  # 'coerce' will replace non-numeric values with NaN\n",
        "\n",
        "# Specify the features and target variable\n",
        "# Assuming 'NAMA' as a categorical feature and we can create flags based on OBESITAS, RIW HIPERTENSI, SOSEK RENDAH\n",
        "df['OBESITAS'] = (df['OBESITAS'] > 0).astype(int)\n",
        "df['RIW_HIPERTENSI_FLAG'] = (df['RIW HIPERTENSI'] > 0).astype(int)\n",
        "df['SOSEK_RENDAH_FLAG'] = (df['SOSEK RENDAH'] > 0).astype(int)\n",
        "\n",
        "# Choose features for encoding\n",
        "features = ['NAMA', 'OBESITAS', 'RIW_HIPERTENSI_FLAG', 'SOSEK_RENDAH_FLAG']\n",
        "target = 'USIA'  # You need to have this column in your DataFrame\n",
        "\n",
        "# If 'HeartDisease' column does not exist, create a sample target variable for demonstration\n",
        "# For this example, let's assume you have a way to determine 'HeartDisease'\n",
        "# e.g., a dummy variable, for now, we will create a random binary target\n",
        "import numpy as np\n",
        "\n",
        "# Creating a sample target variable\n",
        "if 'USIA' not in df.columns:\n",
        "    np.random.seed(0)  # For reproducibility\n",
        "    df['USIA'] = np.random.choice([0, 1], size=len(df))\n",
        "\n",
        "# Encoding categorical variables\n",
        "label_encoder = LabelEncoder()\n",
        "df['NAMA'] = label_encoder.fit_transform(df['NAMA'])  # Encoding names, if applicable\n",
        "\n",
        "# Convert 'USIA' to a consistent data type before encoding\n",
        "# Choose either string or numeric based on your data and analysis needs\n",
        "# Example: Converting to string\n",
        "df['USIA'] = df['USIA'].astype(str)\n",
        "\n",
        "# Now you can encode 'USIA'\n",
        "df['USIA'] = label_encoder.fit_transform(df['USIA'])\n",
        "\n",
        "# Display the DataFrame with formatted table\n",
        "print(\"Data after encoding:\")\n",
        "print(df[features + [target]].head(10))\n",
        "\n",
        "# Separate features (X) and target (y)\n",
        "X = df[features]\n",
        "y = df[target]\n",
        "\n",
        "# Print some data from X and y\n",
        "print(\"Features (X):\")\n",
        "print(X.head(10))\n",
        "print(\"Target (y):\")\n",
        "print(y.head(10))"
      ],
      "metadata": {
        "colab": {
          "base_uri": "https://localhost:8080/"
        },
        "id": "yPVQFmpJWhEL",
        "outputId": "82201ea6-7bf8-4518-8fe9-49fdfbcf7c48"
      },
      "execution_count": 95,
      "outputs": [
        {
          "output_type": "stream",
          "name": "stdout",
          "text": [
            "Data after encoding:\n",
            "   NAMA  OBESITAS  RIW_HIPERTENSI_FLAG  SOSEK_RENDAH_FLAG  USIA\n",
            "0     0         0                    0                  0    21\n",
            "1   111         0                    0                  0    38\n",
            "2   222         0                    0                  0    12\n",
            "3   333         0                    0                  0     7\n",
            "4   444         0                    0                  0    52\n",
            "5   517         0                    0                  0    35\n",
            "6   528         0                    0                  0    56\n",
            "7   539         0                    0                  0    35\n",
            "8   550         0                    0                  0    63\n",
            "9     1         0                    0                  0    59\n",
            "Features (X):\n",
            "   NAMA  OBESITAS  RIW_HIPERTENSI_FLAG  SOSEK_RENDAH_FLAG\n",
            "0     0         0                    0                  0\n",
            "1   111         0                    0                  0\n",
            "2   222         0                    0                  0\n",
            "3   333         0                    0                  0\n",
            "4   444         0                    0                  0\n",
            "5   517         0                    0                  0\n",
            "6   528         0                    0                  0\n",
            "7   539         0                    0                  0\n",
            "8   550         0                    0                  0\n",
            "9     1         0                    0                  0\n",
            "Target (y):\n",
            "0    21\n",
            "1    38\n",
            "2    12\n",
            "3     7\n",
            "4    52\n",
            "5    35\n",
            "6    56\n",
            "7    35\n",
            "8    63\n",
            "9    59\n",
            "Name: USIA, dtype: int64\n"
          ]
        }
      ]
    },
    {
      "cell_type": "code",
      "source": [
        "!pip install scikit-learn #installing the necessary library"
      ],
      "metadata": {
        "colab": {
          "base_uri": "https://localhost:8080/"
        },
        "id": "HWbDeo6LYbic",
        "outputId": "000e8583-b752-44f6-d9fd-54f8779c1a5f"
      },
      "execution_count": 96,
      "outputs": [
        {
          "output_type": "stream",
          "name": "stdout",
          "text": [
            "Requirement already satisfied: scikit-learn in /usr/local/lib/python3.10/dist-packages (1.5.2)\n",
            "Requirement already satisfied: numpy>=1.19.5 in /usr/local/lib/python3.10/dist-packages (from scikit-learn) (1.26.4)\n",
            "Requirement already satisfied: scipy>=1.6.0 in /usr/local/lib/python3.10/dist-packages (from scikit-learn) (1.13.1)\n",
            "Requirement already satisfied: joblib>=1.2.0 in /usr/local/lib/python3.10/dist-packages (from scikit-learn) (1.4.2)\n",
            "Requirement already satisfied: threadpoolctl>=3.1.0 in /usr/local/lib/python3.10/dist-packages (from scikit-learn) (3.5.0)\n"
          ]
        }
      ]
    },
    {
      "cell_type": "markdown",
      "source": [
        "# Still Broken"
      ],
      "metadata": {
        "id": "TLUnblFBZMV0"
      }
    },
    {
      "cell_type": "code",
      "source": [
        "\n",
        "\n",
        "import pandas as pd\n",
        "from sklearn.model_selection import train_test_split\n",
        "from sklearn.ensemble import RandomForestClassifier\n",
        "from sklearn.metrics import accuracy_score, confusion_matrix, classification_report # Importing confusion_matrix, accuracy_score, and classification_report\n",
        "\n",
        "# ... (your existing code) ...\n",
        "\n",
        "# Perform train-test split\n",
        "X_train, X_test, y_train, y_test = train_test_split(X, y, test_size=0.2, random_state=42)\n",
        "\n",
        "# Initialize the Random Forest Classifier\n",
        "model = RandomForestClassifier(random_state=42)\n",
        "\n",
        "# Train the model\n",
        "model.fit(X_train, y_train)\n",
        "\n",
        "# Make predictions\n",
        "y_pred = model.predict(X_test)\n",
        "\n",
        "# Evaluate the model\n",
        "accuracy = accuracy_score(y_test, y_pred)\n",
        "conf_matrix = confusion_matrix(y_test, y_pred) # Now confusion_matrix is defined\n",
        "class_report = classification_report(y_test, y_pred) # Now classification_report is defined\n",
        "\n",
        "# Print evaluation metrics\n",
        "print(\"Accuracy:\", accuracy)\n",
        "print(\"Confusion Matrix:\\n\", conf_matrix)\n",
        "print(\"Classification Report:\\n\", class_report)"
      ],
      "metadata": {
        "colab": {
          "base_uri": "https://localhost:8080/"
        },
        "id": "bKG_9iH9W_vY",
        "outputId": "52db202a-ccf1-4da2-95f5-fb2a5e6df04e"
      },
      "execution_count": 97,
      "outputs": [
        {
          "output_type": "stream",
          "name": "stdout",
          "text": [
            "Accuracy: 0.07079646017699115\n",
            "Confusion Matrix:\n",
            " [[0 0 0 ... 0 0 0]\n",
            " [0 0 0 ... 0 0 0]\n",
            " [0 0 0 ... 0 0 0]\n",
            " ...\n",
            " [0 0 0 ... 0 0 0]\n",
            " [0 0 0 ... 0 0 0]\n",
            " [0 0 0 ... 0 0 0]]\n",
            "Classification Report:\n",
            "               precision    recall  f1-score   support\n",
            "\n",
            "           0       0.00      0.00      0.00         1\n",
            "           2       0.00      0.00      0.00         2\n",
            "           3       0.00      0.00      0.00         1\n",
            "           4       0.00      0.00      0.00         0\n",
            "           5       0.00      0.00      0.00         1\n",
            "           6       0.00      0.00      0.00         1\n",
            "           7       0.00      0.00      0.00         1\n",
            "           9       0.00      0.00      0.00         1\n",
            "          10       0.00      0.00      0.00         2\n",
            "          12       0.00      0.00      0.00         3\n",
            "          14       0.00      0.00      0.00         1\n",
            "          16       1.00      0.20      0.33         5\n",
            "          17       0.00      0.00      0.00         4\n",
            "          18       0.00      0.00      0.00         4\n",
            "          19       0.00      0.00      0.00         1\n",
            "          21       0.00      0.00      0.00         4\n",
            "          22       0.00      0.00      0.00         1\n",
            "          24       0.00      0.00      0.00         3\n",
            "          25       0.00      0.00      0.00         1\n",
            "          26       0.00      0.00      0.00         5\n",
            "          27       0.00      0.00      0.00         2\n",
            "          28       0.00      0.00      0.00         1\n",
            "          29       0.00      0.00      0.00         1\n",
            "          31       0.50      0.25      0.33         4\n",
            "          32       0.17      0.25      0.20         4\n",
            "          33       0.00      0.00      0.00         2\n",
            "          35       0.14      0.12      0.13         8\n",
            "          36       0.50      1.00      0.67         1\n",
            "          38       0.00      0.00      0.00         6\n",
            "          39       0.00      0.00      0.00         4\n",
            "          40       0.00      0.00      0.00         4\n",
            "          41       0.00      0.00      0.00         0\n",
            "          44       0.50      0.50      0.50         4\n",
            "          45       0.17      0.33      0.22         3\n",
            "          46       0.00      0.00      0.00         1\n",
            "          48       0.00      0.00      0.00         1\n",
            "          49       0.00      0.00      0.00         1\n",
            "          50       0.00      0.00      0.00         2\n",
            "          51       0.00      0.00      0.00         1\n",
            "          52       0.00      0.00      0.00         1\n",
            "          53       0.00      0.00      0.00         2\n",
            "          54       0.00      0.00      0.00         2\n",
            "          55       0.00      0.00      0.00         1\n",
            "          56       0.00      0.00      0.00         1\n",
            "          57       0.00      0.00      0.00         0\n",
            "          59       0.00      0.00      0.00         2\n",
            "          60       0.00      0.00      0.00         1\n",
            "          61       0.00      0.00      0.00         1\n",
            "          62       0.00      0.00      0.00         2\n",
            "          63       0.00      0.00      0.00         1\n",
            "          65       0.00      0.00      0.00         2\n",
            "          66       0.00      0.00      0.00         2\n",
            "          67       0.00      0.00      0.00         0\n",
            "          68       0.00      0.00      0.00         0\n",
            "          69       0.00      0.00      0.00         2\n",
            "          71       0.00      0.00      0.00         1\n",
            "          72       0.00      0.00      0.00         0\n",
            "\n",
            "    accuracy                           0.07       113\n",
            "   macro avg       0.05      0.05      0.04       113\n",
            "weighted avg       0.10      0.07      0.07       113\n",
            "\n"
          ]
        },
        {
          "output_type": "stream",
          "name": "stderr",
          "text": [
            "/usr/local/lib/python3.10/dist-packages/sklearn/metrics/_classification.py:1531: UndefinedMetricWarning: Precision is ill-defined and being set to 0.0 in labels with no predicted samples. Use `zero_division` parameter to control this behavior.\n",
            "  _warn_prf(average, modifier, f\"{metric.capitalize()} is\", len(result))\n",
            "/usr/local/lib/python3.10/dist-packages/sklearn/metrics/_classification.py:1531: UndefinedMetricWarning: Recall is ill-defined and being set to 0.0 in labels with no true samples. Use `zero_division` parameter to control this behavior.\n",
            "  _warn_prf(average, modifier, f\"{metric.capitalize()} is\", len(result))\n",
            "/usr/local/lib/python3.10/dist-packages/sklearn/metrics/_classification.py:1531: UndefinedMetricWarning: Precision is ill-defined and being set to 0.0 in labels with no predicted samples. Use `zero_division` parameter to control this behavior.\n",
            "  _warn_prf(average, modifier, f\"{metric.capitalize()} is\", len(result))\n",
            "/usr/local/lib/python3.10/dist-packages/sklearn/metrics/_classification.py:1531: UndefinedMetricWarning: Recall is ill-defined and being set to 0.0 in labels with no true samples. Use `zero_division` parameter to control this behavior.\n",
            "  _warn_prf(average, modifier, f\"{metric.capitalize()} is\", len(result))\n",
            "/usr/local/lib/python3.10/dist-packages/sklearn/metrics/_classification.py:1531: UndefinedMetricWarning: Precision is ill-defined and being set to 0.0 in labels with no predicted samples. Use `zero_division` parameter to control this behavior.\n",
            "  _warn_prf(average, modifier, f\"{metric.capitalize()} is\", len(result))\n",
            "/usr/local/lib/python3.10/dist-packages/sklearn/metrics/_classification.py:1531: UndefinedMetricWarning: Recall is ill-defined and being set to 0.0 in labels with no true samples. Use `zero_division` parameter to control this behavior.\n",
            "  _warn_prf(average, modifier, f\"{metric.capitalize()} is\", len(result))\n"
          ]
        }
      ]
    }
  ]
}